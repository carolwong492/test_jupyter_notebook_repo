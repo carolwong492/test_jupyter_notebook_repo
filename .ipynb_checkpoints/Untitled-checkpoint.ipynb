{
 "cells": [
  {
   "cell_type": "markdown",
   "id": "6a5f3884-df12-4989-84d5-da8564746124",
   "metadata": {},
   "source": [
    "# Markdown cellllll\n",
    "dklsjflkdjfkls\n",
    "```jfdkjf```\n",
    "\n",
    "$1 + 2 = 3$"
   ]
  },
  {
   "cell_type": "code",
   "execution_count": 1,
   "id": "9fa44169-ccbf-42a8-ad26-112d1b1e7dd7",
   "metadata": {},
   "outputs": [],
   "source": [
    "def new_method_name(a, b):\n",
    "    return a + b "
   ]
  },
  {
   "cell_type": "markdown",
   "id": "fe9f1007-ea15-4ee3-96a0-b1819cc57fdf",
   "metadata": {},
   "source": [
    "# Markdown cell\n",
    "- one two three\n",
    "- a + b\n",
    "- "
   ]
  },
  {
   "cell_type": "code",
   "execution_count": 3,
   "id": "8890c5bd-37c6-4c97-92cc-25d7806c3d45",
   "metadata": {},
   "outputs": [
    {
     "data": {
      "text/plain": [
       "7"
      ]
     },
     "execution_count": 3,
     "metadata": {},
     "output_type": "execute_result"
    }
   ],
   "source": [
    "new_method_name(3, 4)"
   ]
  },
  {
   "cell_type": "code",
   "execution_count": null,
   "id": "aff74c7a-3506-4e34-be0c-ad2c6e0f3554",
   "metadata": {},
   "outputs": [],
   "source": []
  }
 ],
 "metadata": {
  "kernelspec": {
   "display_name": "Python 3 (ipykernel)",
   "language": "python",
   "name": "python3"
  },
  "language_info": {
   "codemirror_mode": {
    "name": "ipython",
    "version": 3
   },
   "file_extension": ".py",
   "mimetype": "text/x-python",
   "name": "python",
   "nbconvert_exporter": "python",
   "pygments_lexer": "ipython3",
   "version": "3.11.5"
  }
 },
 "nbformat": 4,
 "nbformat_minor": 5
}
